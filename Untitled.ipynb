{
 "cells": [
  {
   "cell_type": "code",
   "execution_count": 87,
   "id": "171a3c3a-9943-48c0-acb1-fc210d9c4aa8",
   "metadata": {},
   "outputs": [],
   "source": [
    "class EMA:\n",
    "    ema_t_minus1 = 0\n",
    "    # n_time_points = 0\n",
    "    def __init__(self, n):\n",
    "        self.alpha = 2/ (1 + n)\n",
    "    def value(self, x):\n",
    "        # self.n_time_points += 1\n",
    "        # alpha = self.calc_alpha()\n",
    "        ema_t = self.alpha * x + (1 - self.alpha) * self.ema_t_minus1\n",
    "        self.ema_t_minus1 = ema_t\n",
    "        return ema_t"
   ]
  },
  {
   "cell_type": "code",
   "execution_count": 89,
   "id": "c6f62ebb-e54e-4c3c-a3b5-1a70e87a2f6b",
   "metadata": {},
   "outputs": [],
   "source": [
    "ema = EMA(10)"
   ]
  },
  {
   "cell_type": "code",
   "execution_count": 91,
   "id": "854f5958-83b6-49ee-b1de-680a3d180aed",
   "metadata": {},
   "outputs": [
    {
     "data": {
      "text/plain": [
       "0.9090909090909092"
      ]
     },
     "execution_count": 91,
     "metadata": {},
     "output_type": "execute_result"
    }
   ],
   "source": [
    "ema.value(5)"
   ]
  },
  {
   "cell_type": "code",
   "execution_count": 93,
   "id": "17600ed6-5081-49e4-b332-de54a92d3b6f",
   "metadata": {},
   "outputs": [
    {
     "data": {
      "text/plain": [
       "2.1983471074380168"
      ]
     },
     "execution_count": 93,
     "metadata": {},
     "output_type": "execute_result"
    }
   ],
   "source": [
    "ema.value(8)"
   ]
  },
  {
   "cell_type": "code",
   "execution_count": 96,
   "id": "1d1fedd4-c7da-4b5d-ac00-fd95521c3f4f",
   "metadata": {},
   "outputs": [
    {
     "ename": "NameError",
     "evalue": "name 'long' is not defined",
     "output_type": "error",
     "traceback": [
      "\u001b[1;31m---------------------------------------------------------------------------\u001b[0m",
      "\u001b[1;31mNameError\u001b[0m                                 Traceback (most recent call last)",
      "Cell \u001b[1;32mIn[96], line 1\u001b[0m\n\u001b[1;32m----> 1\u001b[0m long\n",
      "\u001b[1;31mNameError\u001b[0m: name 'long' is not defined"
     ]
    }
   ],
   "source": [
    "long"
   ]
  },
  {
   "cell_type": "code",
   "execution_count": null,
   "id": "ff5bd1ec-0d07-4f29-9d28-8ba6ac2a0064",
   "metadata": {},
   "outputs": [],
   "source": [
    "import pandas as pd"
   ]
  }
 ],
 "metadata": {
  "kernelspec": {
   "display_name": "Python 3 (ipykernel)",
   "language": "python",
   "name": "python3"
  },
  "language_info": {
   "codemirror_mode": {
    "name": "ipython",
    "version": 3
   },
   "file_extension": ".py",
   "mimetype": "text/x-python",
   "name": "python",
   "nbconvert_exporter": "python",
   "pygments_lexer": "ipython3",
   "version": "3.12.4"
  }
 },
 "nbformat": 4,
 "nbformat_minor": 5
}
